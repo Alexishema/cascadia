{
 "cells": [
  {
   "cell_type": "code",
   "execution_count": 13,
   "id": "6484954a-031e-4525-817c-b791b8937b60",
   "metadata": {},
   "outputs": [
    {
     "data": {
      "application/vnd.jupyter.widget-view+json": {
       "model_id": "0d3fefe8db0243c0a0b45158e492c897",
       "version_major": 2,
       "version_minor": 0
      },
      "text/plain": [
       "interactive(children=(Dropdown(description='group_by', options=('Day', 'Week', '15 Days', 'Month'), value='Day…"
      ]
     },
     "metadata": {},
     "output_type": "display_data"
    },
    {
     "data": {
      "text/plain": [
       "<function __main__.plot_metric_with_trend(group_by, metric, time_range)>"
      ]
     },
     "execution_count": 13,
     "metadata": {},
     "output_type": "execute_result"
    }
   ],
   "source": [
    "import pandas as pd\n",
    "import matplotlib.pyplot as plt\n",
    "from ipywidgets import interact\n",
    "from sklearn.linear_model import LinearRegression\n",
    "import numpy as np\n",
    "\n",
    "# Load the data\n",
    "file_path = 'Overall Fleet Report_2025-01-01_-_2025-04-10.csv'\n",
    "df = pd.read_csv(file_path)\n",
    "\n",
    "# Convert and sort date\n",
    "df['Date'] = pd.to_datetime(df['Date'])\n",
    "df = df.sort_values('Date')\n",
    "\n",
    "# Function to apply filters and plot with regression\n",
    "def plot_metric_with_trend(group_by, metric, time_range):\n",
    "    # Filter by time range\n",
    "    max_date = df['Date'].max()\n",
    "    if time_range == 'Last week':\n",
    "        min_date = max_date - pd.Timedelta(weeks=1)\n",
    "    elif time_range == 'Last month':\n",
    "        min_date = max_date - pd.DateOffset(months=1)\n",
    "    elif time_range == 'Yesterday':\n",
    "        min_date = max_date.normalize() - pd.Timedelta(days=1)\n",
    "        max_date = min_date + pd.Timedelta(days=1)\n",
    "    else:  # All data\n",
    "        min_date = df['Date'].min()\n",
    "\n",
    "    df_filtered = df[(df['Date'] >= min_date) & (df['Date'] <= max_date)]\n",
    "\n",
    "    # Resampling\n",
    "    if group_by == 'Day':\n",
    "        grouped = df_filtered.resample('D', on='Date').mean()\n",
    "    elif group_by == 'Week':\n",
    "        grouped = df_filtered.resample('W-MON', on='Date').mean()\n",
    "    elif group_by == '15 Days':\n",
    "        grouped = df_filtered.resample('15D', on='Date').mean()\n",
    "    elif group_by == 'Month':\n",
    "        grouped = df_filtered.resample('M', on='Date').mean()\n",
    "    else:\n",
    "        return\n",
    "\n",
    "    grouped = grouped[[metric]].dropna()\n",
    "\n",
    "    if len(grouped) < 2:\n",
    "        print(\"Not enough data to analyze. Try a different time range or grouping.\")\n",
    "        return\n",
    "\n",
    "    # Linear regression\n",
    "    X = np.arange(len(grouped)).reshape(-1, 1)\n",
    "    y = grouped[metric].values\n",
    "    model = LinearRegression()\n",
    "    model.fit(X, y)\n",
    "    trend = model.predict(X)\n",
    "    percent_change = (trend[-1] - trend[0]) / np.mean(y) * 100\n",
    "\n",
    "    # Plot\n",
    "    plt.figure(figsize=(14, 6))\n",
    "    plt.plot(grouped.index, y, marker='o', label=metric)\n",
    "    plt.plot(grouped.index, trend, linestyle='--', color='red', label='Trend Line')\n",
    "    plt.title(f'{metric} ({time_range}) Grouped by {group_by}\\nChange: {percent_change:.2f}% of average')\n",
    "    plt.xlabel('Date')\n",
    "    plt.ylabel(metric)\n",
    "    plt.legend()\n",
    "    plt.grid(True)\n",
    "    plt.tight_layout()\n",
    "    plt.show()\n",
    "\n",
    "# Full interactive widget\n",
    "interact(\n",
    "    plot_metric_with_trend,\n",
    "    group_by=['Day', 'Week', '15 Days', 'Month'],\n",
    "    metric=[\n",
    "        'Operational Intensity (%)',\n",
    "        'Active Time (%)',\n",
    "        'Capacity Utilization (%)',\n",
    "        'Active Equipment (#)'\n",
    "    ],\n",
    "    time_range=[\n",
    "        'All data',\n",
    "        'Last week',\n",
    "        'Last month',\n",
    "        'Yesterday'\n",
    "    ]\n",
    ")\n"
   ]
  },
  {
   "cell_type": "code",
   "execution_count": 14,
   "id": "c31aa259-de59-4938-b6c9-07b5fb5a6ff5",
   "metadata": {},
   "outputs": [
    {
     "data": {
      "application/vnd.jupyter.widget-view+json": {
       "model_id": "6e6253a3b5704f5aa94996347047fccc",
       "version_major": 2,
       "version_minor": 0
      },
      "text/plain": [
       "interactive(children=(Dropdown(description='time_range', options=('All data', 'Last week', 'Last 15 days', 'La…"
      ]
     },
     "metadata": {},
     "output_type": "display_data"
    },
    {
     "data": {
      "text/plain": [
       "<function __main__.show_hourly_summary(time_range)>"
      ]
     },
     "execution_count": 14,
     "metadata": {},
     "output_type": "execute_result"
    }
   ],
   "source": [
    "import pandas as pd\n",
    "import matplotlib.pyplot as plt\n",
    "from ipywidgets import interact\n",
    "from datetime import timedelta\n",
    "\n",
    "# Load the data\n",
    "file_path = 'Overall Fleet Report_2025-01-01_-_2025-04-10.csv'\n",
    "df = pd.read_csv(file_path)\n",
    "\n",
    "# Convert 'Date' to datetime and localize to UTC if needed\n",
    "df['Date'] = pd.to_datetime(df['Date'])\n",
    "if df['Date'].dt.tz is None:\n",
    "    df['Date'] = df['Date'].dt.tz_localize('UTC')\n",
    "\n",
    "# Convert to GMT-6\n",
    "df['Date'] = df['Date'].dt.tz_convert('Etc/GMT+6')\n",
    "\n",
    "# Define metrics\n",
    "metrics = [\n",
    "    'Operational Intensity (%)',\n",
    "    'Active Time (%)',\n",
    "    'Capacity Utilization (%)',\n",
    "    'Active Equipment (#)'\n",
    "]\n",
    "\n",
    "# Interactive function\n",
    "def show_hourly_summary(time_range):\n",
    "    max_date = df['Date'].max()\n",
    "\n",
    "    if time_range == 'Last week':\n",
    "        min_date = max_date - timedelta(weeks=1)\n",
    "    elif time_range == 'Last 15 days':\n",
    "        min_date = max_date - timedelta(days=15)\n",
    "    elif time_range == 'Last month':\n",
    "        min_date = max_date - pd.DateOffset(months=1)\n",
    "    elif time_range == 'Today':\n",
    "        min_date = max_date.normalize()\n",
    "    else:  # All data\n",
    "        min_date = df['Date'].min()\n",
    "\n",
    "    df_filtered = df[(df['Date'] >= min_date) & (df['Date'] <= max_date)].copy()\n",
    "    df_filtered['Hour'] = df_filtered['Date'].dt.hour\n",
    "    hourly_means_local = df_filtered.groupby('Hour')[metrics].mean()\n",
    "\n",
    "    summary_local = []\n",
    "\n",
    "    for metric in metrics:\n",
    "        best_hour = hourly_means_local[metric].idxmax()\n",
    "        worst_hour = hourly_means_local[metric].idxmin()\n",
    "        best_value = hourly_means_local[metric].max()\n",
    "        worst_value = hourly_means_local[metric].min()\n",
    "\n",
    "        summary_local.append({\n",
    "            'Metric': metric,\n",
    "            'Best Hour (GMT-6)': best_hour,\n",
    "            'Best Value': round(best_value, 2),\n",
    "            'Worst Hour (GMT-6)': worst_hour,\n",
    "            'Worst Value': round(worst_value, 2)\n",
    "        })\n",
    "\n",
    "        # Plot\n",
    "        plt.figure(figsize=(12, 5))\n",
    "        plt.plot(hourly_means_local.index, hourly_means_local[metric], marker='o', linewidth=2)\n",
    "        plt.axvline(x=best_hour, color='green', linestyle='--', label=f'Best Hour: {best_hour}h')\n",
    "        plt.axvline(x=worst_hour, color='red', linestyle='--', label=f'Worst Hour: {worst_hour}h')\n",
    "        plt.title(f'{metric} by Hour of Day (GMT-6) - {time_range}')\n",
    "        plt.xlabel('Hour of Day')\n",
    "        plt.ylabel(metric)\n",
    "        plt.grid(True)\n",
    "        plt.legend()\n",
    "        plt.tight_layout()\n",
    "        plt.show()\n",
    "\n",
    "    summary_df = pd.DataFrame(summary_local)\n",
    "    display(summary_df)\n",
    "\n",
    "# Widget interface\n",
    "interact(\n",
    "    show_hourly_summary,\n",
    "    time_range=[\n",
    "        'All data',\n",
    "        'Last week',\n",
    "        'Last 15 days',\n",
    "        'Last month',\n",
    "        'Today'\n",
    "    ]\n",
    ")\n"
   ]
  },
  {
   "cell_type": "code",
   "execution_count": null,
   "id": "70d56728-87ae-43ac-9306-0bdf76641fb6",
   "metadata": {},
   "outputs": [],
   "source": []
  }
 ],
 "metadata": {
  "kernelspec": {
   "display_name": "Python 3 (ipykernel)",
   "language": "python",
   "name": "python3"
  },
  "language_info": {
   "codemirror_mode": {
    "name": "ipython",
    "version": 3
   },
   "file_extension": ".py",
   "mimetype": "text/x-python",
   "name": "python",
   "nbconvert_exporter": "python",
   "pygments_lexer": "ipython3",
   "version": "3.11.9"
  }
 },
 "nbformat": 4,
 "nbformat_minor": 5
}
